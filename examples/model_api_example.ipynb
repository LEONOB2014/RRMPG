{
 "cells": [
  {
   "cell_type": "markdown",
   "metadata": {},
   "source": [
    "# Model API Example\n",
    "\n",
    "In this notebook, we'll explore some functionality of the models of this package. We'll work with the coupled  CemaneigeGR4j model that is implemented in `rrmpg.models` module. The data we'll use, comes from the CAMELS [1] data set. For some basins, the data is provided within this Python library and can be easily imported using the `CAMELSLoader` class implemented in the `rrmpg.data` module.\n",
    "\n",
    "In summary we'll look at:\n",
    "- How you can create a model instance.\n",
    "- How we can use the CAMELSLoader.\n",
    "- How you can fit the model parameters to observed discharge by:\n",
    "    - Using one of SciPy's global optimizer\n",
    "    - Monte-Carlo-Simulation\n",
    "- How you can use a fitted model to calculate the simulated discharge.\n",
    "\n",
    "\n",
    "[1] Addor, N., A.J. Newman, N. Mizukami, and M.P. Clark, 2017: The CAMELS data set: catchment attributes and meteorology for large-sample studies. version 2.0. Boulder, CO: UCAR/NCAR. doi:10.5065/D6G73C3Q"
   ]
  },
  {
   "cell_type": "code",
   "execution_count": 1,
   "metadata": {},
   "outputs": [],
   "source": [
    "# Imports and Notebook setup\n",
    "from timeit import timeit\n",
    "\n",
    "import pandas as pd\n",
    "import numpy as np\n",
    "import matplotlib.pyplot as plt\n",
    "\n",
    "from rrmpg.models import CemaneigeGR4J\n",
    "from rrmpg.data import CAMELSLoader\n",
    "from rrmpg.tools.monte_carlo import monte_carlo\n",
    "from rrmpg.utils.metrics import calc_nse\n",
    "\n",
    "# Let plots appear in the notebook\n",
    "%matplotlib inline"
   ]
  },
  {
   "cell_type": "markdown",
   "metadata": {},
   "source": [
    "## Create a model\n",
    "\n",
    "As a first step let us have a look how we can create one of the models implemented in `rrmpg.models`. Basically, for all models we have two different options:\n",
    "1. Initialize a model **without** specific model parameters.\n",
    "2. Initialize a model **with** specific model parameters.\n",
    "\n",
    "The [documentation](http://rrmpg.readthedocs.io) provides a list of all model parameters. Alternatively we can look at `help()` for the model (e.g. `help(CemaneigeGR4J)`).\n",
    "\n",
    "If no specific model parameters are provided upon intialization, random parameters will be generated that are in between the default parameter bounds. We can look at these bounds by calling `.get_param_bounds()` method on the model object and check the current parameter values by calling `.get_params()` method.\n",
    "\n",
    "For now we don't know any specific parameter values, so we'll create one with random parameters."
   ]
  },
  {
   "cell_type": "code",
   "execution_count": 2,
   "metadata": {},
   "outputs": [
    {
     "data": {
      "text/plain": [
       "{'CTG': 0.3359861769122866,\n",
       " 'Kf': 0.8149823070907103,\n",
       " 'x1': 292.97760019180146,\n",
       " 'x2': -0.37480712839221475,\n",
       " 'x3': 110.92666991189834,\n",
       " 'x4': 2.5884480400725574}"
      ]
     },
     "execution_count": 2,
     "metadata": {},
     "output_type": "execute_result"
    }
   ],
   "source": [
    "model = CemaneigeGR4J()\n",
    "model.get_params()"
   ]
  },
  {
   "cell_type": "markdown",
   "metadata": {},
   "source": [
    "Here we can see the six model parameters of CemaneigeGR4J model and their current values."
   ]
  },
  {
   "cell_type": "markdown",
   "metadata": {},
   "source": [
    "## Using the CAMELSLoader\n",
    "To have data to start with, we can use the `CAMELSLoader` class to load data of provided basins from the CAMELS dataset. To get a list of all available basins that are provided within this library, we can use the `.get_basin_numbers()` method. For now we will use the provided basin number `01031500`."
   ]
  },
  {
   "cell_type": "code",
   "execution_count": 3,
   "metadata": {
    "scrolled": true
   },
   "outputs": [
    {
     "data": {
      "text/html": [
       "<div>\n",
       "<style scoped>\n",
       "    .dataframe tbody tr th:only-of-type {\n",
       "        vertical-align: middle;\n",
       "    }\n",
       "\n",
       "    .dataframe tbody tr th {\n",
       "        vertical-align: top;\n",
       "    }\n",
       "\n",
       "    .dataframe thead th {\n",
       "        text-align: right;\n",
       "    }\n",
       "</style>\n",
       "<table border=\"1\" class=\"dataframe\">\n",
       "  <thead>\n",
       "    <tr style=\"text-align: right;\">\n",
       "      <th></th>\n",
       "      <th>dayl(s)</th>\n",
       "      <th>prcp(mm/day)</th>\n",
       "      <th>srad(W/m2)</th>\n",
       "      <th>swe(mm)</th>\n",
       "      <th>tmax(C)</th>\n",
       "      <th>tmin(C)</th>\n",
       "      <th>vp(Pa)</th>\n",
       "      <th>PET</th>\n",
       "      <th>QObs(mm/d)</th>\n",
       "    </tr>\n",
       "  </thead>\n",
       "  <tbody>\n",
       "    <tr>\n",
       "      <th>1980-10-01</th>\n",
       "      <td>41050.80</td>\n",
       "      <td>0.00</td>\n",
       "      <td>286.90</td>\n",
       "      <td>0.0</td>\n",
       "      <td>16.19</td>\n",
       "      <td>4.31</td>\n",
       "      <td>825.78</td>\n",
       "      <td>1.5713</td>\n",
       "      <td>0.5550</td>\n",
       "    </tr>\n",
       "    <tr>\n",
       "      <th>1980-10-02</th>\n",
       "      <td>40780.81</td>\n",
       "      <td>2.08</td>\n",
       "      <td>195.94</td>\n",
       "      <td>0.0</td>\n",
       "      <td>13.46</td>\n",
       "      <td>5.72</td>\n",
       "      <td>920.18</td>\n",
       "      <td>1.2619</td>\n",
       "      <td>0.4979</td>\n",
       "    </tr>\n",
       "    <tr>\n",
       "      <th>1980-10-03</th>\n",
       "      <td>40435.21</td>\n",
       "      <td>5.57</td>\n",
       "      <td>172.60</td>\n",
       "      <td>0.0</td>\n",
       "      <td>17.84</td>\n",
       "      <td>8.61</td>\n",
       "      <td>1128.70</td>\n",
       "      <td>1.2979</td>\n",
       "      <td>0.5169</td>\n",
       "    </tr>\n",
       "    <tr>\n",
       "      <th>1980-10-04</th>\n",
       "      <td>40435.21</td>\n",
       "      <td>23.68</td>\n",
       "      <td>170.45</td>\n",
       "      <td>0.0</td>\n",
       "      <td>16.28</td>\n",
       "      <td>7.32</td>\n",
       "      <td>1027.91</td>\n",
       "      <td>1.2251</td>\n",
       "      <td>1.5634</td>\n",
       "    </tr>\n",
       "    <tr>\n",
       "      <th>1980-10-05</th>\n",
       "      <td>40089.58</td>\n",
       "      <td>3.00</td>\n",
       "      <td>113.83</td>\n",
       "      <td>0.0</td>\n",
       "      <td>10.51</td>\n",
       "      <td>5.01</td>\n",
       "      <td>881.61</td>\n",
       "      <td>0.9116</td>\n",
       "      <td>2.8541</td>\n",
       "    </tr>\n",
       "  </tbody>\n",
       "</table>\n",
       "</div>"
      ],
      "text/plain": [
       "             dayl(s)  prcp(mm/day)  srad(W/m2)  swe(mm)  tmax(C)  tmin(C)  \\\n",
       "1980-10-01  41050.80          0.00      286.90      0.0    16.19     4.31   \n",
       "1980-10-02  40780.81          2.08      195.94      0.0    13.46     5.72   \n",
       "1980-10-03  40435.21          5.57      172.60      0.0    17.84     8.61   \n",
       "1980-10-04  40435.21         23.68      170.45      0.0    16.28     7.32   \n",
       "1980-10-05  40089.58          3.00      113.83      0.0    10.51     5.01   \n",
       "\n",
       "             vp(Pa)     PET  QObs(mm/d)  \n",
       "1980-10-01   825.78  1.5713      0.5550  \n",
       "1980-10-02   920.18  1.2619      0.4979  \n",
       "1980-10-03  1128.70  1.2979      0.5169  \n",
       "1980-10-04  1027.91  1.2251      1.5634  \n",
       "1980-10-05   881.61  0.9116      2.8541  "
      ]
     },
     "execution_count": 3,
     "metadata": {},
     "output_type": "execute_result"
    }
   ],
   "source": [
    "df = CAMELSLoader().load_basin('01031500')\n",
    "df.head()"
   ]
  },
  {
   "cell_type": "markdown",
   "metadata": {},
   "source": [
    "Next we will split the data into a calibration period, which we will use to find a set of good model parameters, and a validation period, we will use the see how good our model works on unseen data. As in the CAMELS data set publication, we will use the first 15 hydrological years for calibration. The rest of the data will be used for validation.\n",
    "\n",
    "Because the index of the dataframe is in pandas Datetime format, we can easily split the dataframe into two parts"
   ]
  },
  {
   "cell_type": "code",
   "execution_count": 4,
   "metadata": {},
   "outputs": [],
   "source": [
    "# calcute the end date of the calibration period\n",
    "end_cal = pd.to_datetime(f\"{df.index[0].year + 15}/09/30\", yearfirst=True)\n",
    "\n",
    "# validation period starts one day later\n",
    "start_val = end_cal + pd.DateOffset(days=1)\n",
    "\n",
    "# split the data into two parts\n",
    "cal = df[:end_cal].copy()\n",
    "val = df[start_val:].copy()"
   ]
  },
  {
   "cell_type": "markdown",
   "metadata": {},
   "source": [
    "## Fit the model to observed discharge\n",
    "\n",
    "As already said above, we'll look at two different methods implemented in this library:\n",
    "1. Using one of SciPy's global optimizer\n",
    "2. Monte-Carlo-Simulation\n",
    "\n",
    "### Using one of SciPy's global optimizer\n",
    "\n",
    "Each model has a `.fit()` method. This function uses the global optimizer [differential evolution](https://docs.scipy.org/doc/scipy/reference/generated/scipy.optimize.differential_evolution.html) from the scipy package to find the set of model parameters that produce the best simulation, regarding the provided observed discharge array.\n",
    "The inputs for this function can be found in the [documentation](http://rrmpg.readthedocs.io) or the `help()`."
   ]
  },
  {
   "cell_type": "code",
   "execution_count": 5,
   "metadata": {},
   "outputs": [
    {
     "name": "stdout",
     "output_type": "stream",
     "text": [
      "Help on method fit in module rrmpg.models.cemaneigegr4j:\n",
      "\n",
      "fit(obs, prec, mean_temp, min_temp, max_temp, etp, met_station_height, snow_pack_init=0, thermal_state_init=0, s_init=0, r_init=0, altitudes=[]) method of rrmpg.models.cemaneigegr4j.CemaneigeGR4J instance\n",
      "    Fit the Cemaneige + GR4J coupled model to a observed timeseries\n",
      "    \n",
      "    This functions uses scipy's global optimizer (differential evolution)\n",
      "    to find a good set of parameters for the model, so that the observed \n",
      "    timeseries is simulated as good as possible.        \n",
      "    \n",
      "    Args:\n",
      "        obs: Array of the observed timeseries [mm]\n",
      "        prec: Array of daily precipitation sum [mm]\n",
      "        mean_temp: Array of the mean temperature [C]\n",
      "        min_temp: Array of the minimum temperature [C]\n",
      "        max_temp: Array of the maximum temperature [C]\n",
      "        etp: Array of mean potential evapotranspiration [mm]\n",
      "        met_station_height: Height of the meteorological station [m]. \n",
      "            Needed to calculate the fraction of solid precipitation and\n",
      "            optionally for the extrapolation of the meteorological inputs.\n",
      "        snow_pack_init: (optional) Initial value of the snow pack storage\n",
      "        thermal_state_init: (optional) Initial value of the thermal state\n",
      "            of the snow pack\n",
      "        s_init: (optional) Initial value of the production storage as \n",
      "            fraction of x1. \n",
      "        r_init: (optional) Initial value of the routing storage as fraction\n",
      "            of x3.\n",
      "        altitudes: (optional) List of median altitudes of each elevation\n",
      "            layer [m]\n",
      "            \n",
      "    Returns:\n",
      "        res: A scipy OptimizeResult class object.\n",
      "        \n",
      "    Raises:\n",
      "        ValueError: If one of the inputs contains invalid values.\n",
      "        TypeError: If one of the inputs has an incorrect datatype.\n",
      "        RuntimeErrror: If there is a size mismatch between the \n",
      "            precipitation and the pot. evapotranspiration input.\n",
      "\n"
     ]
    }
   ],
   "source": [
    "help(model.fit)"
   ]
  },
  {
   "cell_type": "markdown",
   "metadata": {},
   "source": [
    "We don't know any values for the initial states of the storages, so we will ignore them for now. For the missing mean temperature, we calculate a proxy from the minimum and maximum daily temperature. The station height can be retrieved from the `CAMELSLoader` class via the `.get_station_height()` method."
   ]
  },
  {
   "cell_type": "code",
   "execution_count": 6,
   "metadata": {},
   "outputs": [],
   "source": [
    "# calculate mean temp for calibration and validation period\n",
    "cal['tmean'] = (cal['tmin(C)'] + cal['tmax(C)']) / 2\n",
    "val['tmean'] = (val['tmin(C)'] + val['tmax(C)']) / 2\n",
    "\n",
    "# load the gauge station height\n",
    "height = CAMELSLoader().get_station_height('01031500')"
   ]
  },
  {
   "cell_type": "markdown",
   "metadata": {},
   "source": [
    "Now we are ready to fit the model and retrieve a good set of model parameters from the optimizer. Again, this will be done with the calibration data. Because the model methods also except pandas Series, we can call the function as follows."
   ]
  },
  {
   "cell_type": "code",
   "execution_count": 7,
   "metadata": {},
   "outputs": [],
   "source": [
    "# We don't have an initial value for the snow storage,  so we omit this input\n",
    "result = model.fit(cal['QObs(mm/d)'], cal['prcp(mm/day)'], cal['tmean'], \n",
    "                   cal['tmin(C)'], cal['tmax(C)'], cal['PET'], height)"
   ]
  },
  {
   "cell_type": "markdown",
   "metadata": {},
   "source": [
    "`result` is an object defined by the scipy library and contains the optimized model parameters, as well as some more information on the optimization process. Let us have a look at this object:"
   ]
  },
  {
   "cell_type": "code",
   "execution_count": 8,
   "metadata": {},
   "outputs": [
    {
     "data": {
      "text/plain": [
       "     fun: 1.644224043927522\n",
       "     jac: array([ 0.00000000e+00,  6.66133815e-07,  2.84217094e-05,  2.22044605e-08,\n",
       "       -4.06341627e-06,  7.25827531e-01])\n",
       " message: 'Optimization terminated successfully.'\n",
       "    nfev: 2709\n",
       "     nit: 27\n",
       " success: True\n",
       "       x: array([8.82518831e-02, 4.22529374e+00, 1.46933625e+02, 1.14411338e+00,\n",
       "       5.84770150e+01, 1.10000000e+00])"
      ]
     },
     "execution_count": 8,
     "metadata": {},
     "output_type": "execute_result"
    }
   ],
   "source": [
    "result"
   ]
  },
  {
   "cell_type": "markdown",
   "metadata": {},
   "source": [
    "The relevant information here is:\n",
    "- `fun` is the final value of our optimization criterion (the mean-squared-error in this case)\n",
    "- `message` describes the cause of the optimization termination\n",
    "- `nfev` is the number of model simulations\n",
    "- `sucess` is a flag wether or not the optimization was successful\n",
    "- `x` are the optimized model parameters\n",
    "\n",
    "Next, let us set the model parameters to the optimized ones found by the search. Therefore we need to create a dictonary containing one key for each model parameter and as the corresponding value the optimized parameter. As mentioned before, the list of model parameter names can be retrieved by the `model.get_parameter_names()` function. We can then create the needed dictonary by the following lines of code:"
   ]
  },
  {
   "cell_type": "code",
   "execution_count": 9,
   "metadata": {},
   "outputs": [
    {
     "data": {
      "text/plain": [
       "{'CTG': 0.0882518831163816,\n",
       " 'Kf': 4.225293735522786,\n",
       " 'x1': 146.93362451505416,\n",
       " 'x2': 1.1441133795720753,\n",
       " 'x3': 58.47701495510382,\n",
       " 'x4': 1.1}"
      ]
     },
     "execution_count": 9,
     "metadata": {},
     "output_type": "execute_result"
    }
   ],
   "source": [
    "params = {}\n",
    "\n",
    "param_names = model.get_parameter_names()\n",
    "\n",
    "for i, param in enumerate(param_names):\n",
    "    params[param] = result.x[i]\n",
    "\n",
    "# This line set the model parameters to the ones specified in the dict\n",
    "model.set_params(params)\n",
    "\n",
    "# To be sure, let's look at the current model parameters\n",
    "model.get_params()"
   ]
  },
  {
   "cell_type": "markdown",
   "metadata": {},
   "source": [
    "Also it might not be clear at the first look, this are the same parameters as the ones specified in `result.x`. In `result.x` they are ordered according to the ordering of the `_param_list` specified in each model class, where ass the dictonary output here is alphabetically sorted."
   ]
  },
  {
   "cell_type": "markdown",
   "metadata": {},
   "source": [
    "### Monte-Carlo-Simulation\n",
    "\n",
    "Now let us have a look how we can use the Monte-Carlo-Simulation implemented in `rrmpg.tools.monte_carlo`. "
   ]
  },
  {
   "cell_type": "code",
   "execution_count": 10,
   "metadata": {},
   "outputs": [
    {
     "name": "stdout",
     "output_type": "stream",
     "text": [
      "Help on function monte_carlo in module rrmpg.tools.monte_carlo:\n",
      "\n",
      "monte_carlo(model, num, qobs=None, **kwargs)\n",
      "    Perform Monte-Carlo-Simulation.\n",
      "    \n",
      "    This function performs a Monte-Carlo-Simulation for any given hydrological\n",
      "    model of this repository.\n",
      "    \n",
      "    Args:\n",
      "        model: Any instance of a hydrological model of this repository.\n",
      "        num: Number of simulations.\n",
      "        qobs: (optional) Array of observed streamflow.\n",
      "        **kwargs: Keyword arguments, matching the inputs the model needs to\n",
      "            perform a simulation (e.g. qobs, precipitation, temperature etc.).\n",
      "            See help(model.simulate) for model input requirements.\n",
      "    \n",
      "    Returns:\n",
      "        A dictonary containing the following two keys ['params', 'qsim']. The \n",
      "        key 'params' contains a numpy array with the model parameter of each \n",
      "        simulation. 'qsim' is a 2D numpy array with the simulated streamflow \n",
      "        for each simulation. If an array of observed streamflow is provided,\n",
      "        one additional key is returned in the dictonary, being 'mse'. This key\n",
      "        contains an array of the mean-squared-error for each simulation.\n",
      "    \n",
      "    Raises:\n",
      "        ValueError: If any input contains invalid values.\n",
      "        TypeError: If any of the inputs has a wrong datatype.\n",
      "\n"
     ]
    }
   ],
   "source": [
    "help(monte_carlo)"
   ]
  },
  {
   "cell_type": "markdown",
   "metadata": {},
   "source": [
    "As specified in the help text, all model inputs needed for a simulation must be provided as keyword arguments. The keywords need to match the names specified in the `model.simulate()` function. Let us create a new model instance and see how this works for the CemaneigeGR4J model."
   ]
  },
  {
   "cell_type": "code",
   "execution_count": 11,
   "metadata": {},
   "outputs": [],
   "source": [
    "model2 = CemaneigeGR4J()\n",
    "\n",
    "# Let use run MC for 1000 runs, which is in the same range as the above optimizer\n",
    "result_mc = monte_carlo(model2, num=10000, qobs=cal['QObs(mm/d)'], \n",
    "                        prec=cal['prcp(mm/day)'], mean_temp=cal['tmean'],\n",
    "                        min_temp=cal['tmin(C)'], max_temp=cal['tmax(C)'],\n",
    "                        etp=cal['PET'], met_station_height=height)\n",
    "\n",
    "# Get the index of the best fit (smallest mean squared error)\n",
    "idx = np.argmin(result_mc['mse'][~np.isnan(result_mc['mse'])])\n",
    "\n",
    "# Get the optimal parameters and set them as model parameters\n",
    "optim_params = result_mc['params'][idx]\n",
    "\n",
    "params = {}\n",
    "\n",
    "for i, param in enumerate(param_names):\n",
    "    params[param] = optim_params[i]\n",
    "\n",
    "# This line set the model parameters to the ones specified in the dict\n",
    "model2.set_params(params)"
   ]
  },
  {
   "cell_type": "markdown",
   "metadata": {},
   "source": [
    "## Calculate simulated discharge\n",
    "\n",
    "We now have two models, optimized by different methods. Let's calculate the simulated streamflow of each model and compare the results! Each model has a `.simulate()` method, that returns the simulated discharge for the inputs we provide to this function."
   ]
  },
  {
   "cell_type": "code",
   "execution_count": 12,
   "metadata": {},
   "outputs": [
    {
     "name": "stdout",
     "output_type": "stream",
     "text": [
      "NSE of the .fit() optimization: 0.8078\n",
      "NSE of the Monte-Carlo-Simulation: 0.7373\n"
     ]
    }
   ],
   "source": [
    "# simulated discharge of the model optimized by the .fit() function\n",
    "val['qsim_fit'] = model.simulate(val['prcp(mm/day)'], val['tmean'], \n",
    "                                 val['tmin(C)'], val['tmax(C)'], \n",
    "                                 val['PET'], height)\n",
    "\n",
    "# simulated discharge of the model optimized by monte-carlo-sim\n",
    "val['qsim_mc'] = model2.simulate(val['prcp(mm/day)'], val['tmean'], \n",
    "                                 val['tmin(C)'], val['tmax(C)'], \n",
    "                                 val['PET'], height)\n",
    "\n",
    "# Calculate and print the Nash-Sutcliff-Efficiency for both simulations\n",
    "nse_fit = calc_nse(val['QObs(mm/d)'], val['qsim_fit'])\n",
    "nse_mc = calc_nse(val['QObs(mm/d)'], val['qsim_mc'])\n",
    "\n",
    "print(\"NSE of the .fit() optimization: {:.4f}\".format(nse_fit))\n",
    "print(\"NSE of the Monte-Carlo-Simulation: {:.4f}\".format(nse_mc))"
   ]
  },
  {
   "cell_type": "markdown",
   "metadata": {},
   "source": [
    "What do this number mean? Let us have a look at some window of the simulated timeseries and compare them to the observed discharge:"
   ]
  },
  {
   "cell_type": "code",
   "execution_count": 14,
   "metadata": {},
   "outputs": [
    {
     "data": {
      "text/plain": [
       "<matplotlib.legend.Legend at 0x7f24b853ef28>"
      ]
     },
     "execution_count": 14,
     "metadata": {},
     "output_type": "execute_result"
    },
    {
     "data": {
      "image/png": "[encoded data removed]",
      "text/plain": [
       "<matplotlib.figure.Figure at 0x7f24b82e7278>"
      ]
     },
     "metadata": {},
     "output_type": "display_data"
    }
   ],
   "source": [
    "# Plot last full hydrological year of the simulation\n",
    "start_date = pd.to_datetime(\"2013/10/01\", yearfirst=True)\n",
    "end_date = pd.to_datetime(\"2014/09/30\", yearfirst=True)\n",
    "plt.figure(figsize=(16,6))\n",
    "plt.plot(val.loc[start_date:end_date, 'QObs(mm/d)'], label='Qobs')\n",
    "plt.plot(val.loc[start_date:end_date, 'qsim_fit'], label='Qsim .fit()')\n",
    "plt.plot(val.loc[start_date:end_date, 'qsim_mc'], label='Qsim mc')\n",
    "plt.legend()"
   ]
  },
  {
   "cell_type": "markdown",
   "metadata": {},
   "source": [
    "The result is not perfect, but it is not bad either! And since this package is also about speed, let us also check how long it takes to simulate the discharge for the entire validation period (19 years of data)."
   ]
  },
  {
   "cell_type": "code",
   "execution_count": 15,
   "metadata": {},
   "outputs": [
    {
     "name": "stdout",
     "output_type": "stream",
     "text": [
      "2.85 ms ± 318 µs per loop (mean ± std. dev. of 7 runs, 100 loops each)\n"
     ]
    }
   ],
   "source": [
    "%%timeit \n",
    "model.simulate(val['prcp(mm/day)'], val['tmean'], \n",
    "                                 val['tmin(C)'], val['tmax(C)'], \n",
    "                                 val['PET'], height)"
   ]
  }
 ],
 "metadata": {
  "kernelspec": {
   "display_name": "Python 3",
   "language": "python",
   "name": "python3"
  },
  "language_info": {
   "codemirror_mode": {
    "name": "ipython",
    "version": 3
   },
   "file_extension": ".py",
   "mimetype": "text/x-python",
   "name": "python",
   "nbconvert_exporter": "python",
   "pygments_lexer": "ipython3",
   "version": "3.6.4"
  }
 },
 "nbformat": 4,
 "nbformat_minor": 2
}
